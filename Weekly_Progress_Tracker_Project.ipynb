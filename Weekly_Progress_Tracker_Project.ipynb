{
  "nbformat": 4,
  "nbformat_minor": 0,
  "metadata": {
    "colab": {
      "name": "Weekly Progress Tracker Project.ipynb",
      "provenance": [],
      "collapsed_sections": []
    },
    "kernelspec": {
      "name": "python3",
      "display_name": "Python 3"
    },
    "language_info": {
      "name": "python"
    }
  },
  "cells": [
    {
      "cell_type": "code",
      "metadata": {
        "id": "q9Sdu17gGVfM"
      },
      "source": [
        "#Progress Tracker using three libraries of Python: NumPy, Matplotlib, and Pandas\n",
        "#Numpy = data\n",
        "#Pandas = DataFrame for data\n",
        "#Matplotlib = show graph\n",
        "\n",
        "import numpy as np\n",
        "import matplotlib.pyplot as plt\n",
        "import pandas as pd"
      ],
      "execution_count": 1,
      "outputs": []
    },
    {
      "cell_type": "code",
      "metadata": {
        "colab": {
          "base_uri": "https://localhost:8080/"
        },
        "id": "ggv0Oto0FJeH",
        "outputId": "0f8d3035-fd3c-4d6b-ebf7-0e23c5656ae8"
      },
      "source": [
        "#Numpy Array of my evaluation\n",
        "\n",
        "weekly_eval = np.array([[1, 2, 3, 4, 5, 6, 7, 8, 9, 10, 11], [3, 4, 4, 4, 4, 5, 4, 3, 2, 3, 5]])\n",
        "t_weekly_eval = np.transpose(weekly_eval)\n",
        "print(t_weekly_eval)\n"
      ],
      "execution_count": 13,
      "outputs": [
        {
          "output_type": "stream",
          "name": "stdout",
          "text": [
            "[[ 1  3]\n",
            " [ 2  4]\n",
            " [ 3  4]\n",
            " [ 4  4]\n",
            " [ 5  4]\n",
            " [ 6  5]\n",
            " [ 7  4]\n",
            " [ 8  3]\n",
            " [ 9  2]\n",
            " [10  3]\n",
            " [11  5]]\n"
          ]
        }
      ]
    },
    {
      "cell_type": "code",
      "metadata": {
        "colab": {
          "base_uri": "https://localhost:8080/"
        },
        "id": "H-_70egHGj3v",
        "outputId": "82cb87ad-3ea5-4da2-cf4e-9c502d122c18"
      },
      "source": [
        "#Pandas DataFrame of my eval\n",
        "label = list(['09-12', '09-19', '09-26', '10-3', '10-10', '10-17', '10-24', '10-31', '11-07', '11-14', '11-21'])\n",
        "eval_tab = pd.DataFrame(data=t_weekly_eval, index=label, columns=['Week #','Rate'])\n",
        "print(eval_tab)"
      ],
      "execution_count": 16,
      "outputs": [
        {
          "output_type": "stream",
          "name": "stdout",
          "text": [
            "       Week #  Rate\n",
            "09-12       1     3\n",
            "09-19       2     4\n",
            "09-26       3     4\n",
            "10-3        4     4\n",
            "10-10       5     4\n",
            "10-17       6     5\n",
            "10-24       7     4\n",
            "10-31       8     3\n",
            "11-07       9     2\n",
            "11-14      10     3\n",
            "11-21      11     5\n"
          ]
        }
      ]
    },
    {
      "cell_type": "code",
      "metadata": {
        "colab": {
          "base_uri": "https://localhost:8080/",
          "height": 295
        },
        "id": "Q6nUMUbvKWRP",
        "outputId": "543bdc79-f171-4264-e8a3-86e71f37beb7"
      },
      "source": [
        "#Matplotlib Plot\n",
        "\n",
        "x = weekly_eval[0] \n",
        "y = weekly_eval[1]\n",
        "\n",
        "plt.title('Samantha\\'s Weekly Progress Tracker')\n",
        "plt.xlabel('Week Number')\n",
        "plt.ylabel('Rate')\n",
        "plt.plot(x,y,'m')\n",
        "plt.show()"
      ],
      "execution_count": 23,
      "outputs": [
        {
          "output_type": "display_data",
          "data": {
            "image/png": "[encoded data removed]",
            "text/plain": [
              "<Figure size 432x288 with 1 Axes>"
            ]
          },
          "metadata": {
            "needs_background": "light"
          }
        }
      ]
    }
  ]
}